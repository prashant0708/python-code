{
 "cells": [
  {
   "cell_type": "markdown",
   "id": "77ab20d7",
   "metadata": {},
   "source": [
    "## LAMBDA FUNCTION\n",
    "\n",
    "Lambda function is same as user define function but without any name so it is also called as anonymous anonymous Function.\n",
    "\n",
    "This function is good to use for one logic fuction as just one line is sufficient for it. \n",
    "\n",
    "Complex function logic can't be created using lambda function.\n",
    "\n",
    "#### syntex = lambda argument : function\n",
    "\n",
    "lambda x: x**2"
   ]
  },
  {
   "cell_type": "code",
   "execution_count": 93,
   "id": "bfdaacb2",
   "metadata": {},
   "outputs": [
    {
     "data": {
      "text/plain": [
       "9"
      ]
     },
     "execution_count": 93,
     "metadata": {},
     "output_type": "execute_result"
    }
   ],
   "source": [
    "### find the square of the number \n",
    "s=lambda x:x**2\n",
    "\n",
    "s(3)"
   ]
  },
  {
   "cell_type": "code",
   "execution_count": 91,
   "id": "323f02fd",
   "metadata": {},
   "outputs": [],
   "source": [
    "### Find the maximum number amoung tree\n",
    "f=(lambda x,y,z:max(x,y,z))"
   ]
  },
  {
   "cell_type": "code",
   "execution_count": 92,
   "id": "9eed60ad",
   "metadata": {},
   "outputs": [
    {
     "data": {
      "text/plain": [
       "78"
      ]
     },
     "execution_count": 92,
     "metadata": {},
     "output_type": "execute_result"
    }
   ],
   "source": [
    "f(56,45,78)"
   ]
  },
  {
   "cell_type": "code",
   "execution_count": null,
   "id": "69e26578",
   "metadata": {},
   "outputs": [],
   "source": [
    "### Multiply\n",
    "\n"
   ]
  },
  {
   "cell_type": "code",
   "execution_count": 78,
   "id": "2abb181d",
   "metadata": {},
   "outputs": [],
   "source": [
    "### return the length of the string\n",
    "fruits=[\"Apple\",\"Banana\",\"Orange\",\"Dates\"]"
   ]
  },
  {
   "cell_type": "code",
   "execution_count": 79,
   "id": "22be9b5d",
   "metadata": {},
   "outputs": [
    {
     "data": {
      "text/plain": [
       "[5, 6, 6, 5]"
      ]
     },
     "execution_count": 79,
     "metadata": {},
     "output_type": "execute_result"
    }
   ],
   "source": [
    "list(map(lambda x : len(x),fruits))"
   ]
  },
  {
   "cell_type": "code",
   "execution_count": 90,
   "id": "c3307f64",
   "metadata": {},
   "outputs": [
    {
     "data": {
      "text/plain": [
       "['DELHIIIIIIII', 'Bangalore', 'Prashant', 'Singh', 'AAA', 'EEE', 'BE']"
      ]
     },
     "execution_count": 90,
     "metadata": {},
     "output_type": "execute_result"
    }
   ],
   "source": [
    "### Arrange the string based on the length of it in assending order\n",
    "\n",
    "name=[\"Prashant\",\"Singh\",'AAA',\"BE\",\"EEE\",\"Bangalore\",\"DELHIIIIIIII\"]\n",
    "\n",
    "sorted(name,key=lambda x: len(x),reverse=True)"
   ]
  },
  {
   "cell_type": "code",
   "execution_count": 121,
   "id": "9b63cf27",
   "metadata": {},
   "outputs": [],
   "source": [
    "### sort the list of dictionaries based on the specific key\n",
    "\n",
    "d= [{\"Name\":\"Jon\",\"city\":\"SPAIN\",\"Occupation\":\"Design Engineer\",'age':30},\n",
    "    {\"Name\":\"Prashant\",\"age\":29,\"Occupation\":\"Employeed\"},\n",
    "   {\"Name\":\"Julia\",\"city\":\"Bhopal\",\"Occupation\":\"Data Analst\",\"age\":56},\n",
    "]"
   ]
  },
  {
   "cell_type": "code",
   "execution_count": 113,
   "id": "22f12a30",
   "metadata": {},
   "outputs": [
    {
     "data": {
      "text/plain": [
       "[{'Name': 'Prashant', 'age': 29, 'Occupation': 'Employeed'},\n",
       " {'Name': 'Jon', 'city': 'SPAIN', 'Occupation': 'Design Engineer', 'age': 30},\n",
       " {'Name': 'Julia', 'city': 'Bhopal', 'Occupation': 'Data Analst', 'age': 56}]"
      ]
     },
     "execution_count": 113,
     "metadata": {},
     "output_type": "execute_result"
    }
   ],
   "source": [
    "sorted(d,key=lambda x : x[\"age\"])"
   ]
  },
  {
   "cell_type": "code",
   "execution_count": 119,
   "id": "2586c8a8",
   "metadata": {},
   "outputs": [
    {
     "data": {
      "text/plain": [
       "[{'Name': 'Jon', 'city': 'SPAIN', 'Occupation': 'Design Engineer', 'age': 30},\n",
       " {'Name': 'Julia', 'city': 'Bhopal', 'Occupation': 'Data Analst', 'age': 56},\n",
       " {'Name': 'Prashant', 'age': 29, 'Occupation': 'Employeed'}]"
      ]
     },
     "execution_count": 119,
     "metadata": {},
     "output_type": "execute_result"
    }
   ],
   "source": [
    "### sort the list of dictionaries based on the name \n",
    "sorted(d,key=lambda x:len(x[\"Name\"]))"
   ]
  },
  {
   "cell_type": "code",
   "execution_count": 141,
   "id": "ea231479",
   "metadata": {},
   "outputs": [],
   "source": [
    "info={\n",
    "      \"Name\":\"Jon\",\"city\":\"SPAIN\",\"Occupation\":\"Design Engineer\",'age':30,\n",
    "    \"Name\":\"Prashant\",\"age\":29,\"Occupation\":\"Employeed\",\n",
    "   \"Name\":\"Julia\",\"city\":\"Bhopal\",\"Occupation\":\"Data Analst\",\"age\":56}"
   ]
  },
  {
   "cell_type": "code",
   "execution_count": 143,
   "id": "28eadcff",
   "metadata": {},
   "outputs": [
    {
     "data": {
      "text/plain": [
       "['Name', 'Occupation', 'age', 'city']"
      ]
     },
     "execution_count": 143,
     "metadata": {},
     "output_type": "execute_result"
    }
   ],
   "source": [
    "sorted(info,key=lambda x : x[1])"
   ]
  },
  {
   "cell_type": "code",
   "execution_count": 131,
   "id": "2cce2785",
   "metadata": {},
   "outputs": [],
   "source": [
    "footballers_goals = {'Eusebio': 120, 'Cruyff': 104, 'Pele': 150, 'Ronaldo': 132, 'Messi': 125}"
   ]
  },
  {
   "cell_type": "code",
   "execution_count": 142,
   "id": "25fe95c2",
   "metadata": {},
   "outputs": [
    {
     "data": {
      "text/plain": [
       "{'Name': 'Julia', 'city': 'Bhopal', 'Occupation': 'Data Analst', 'age': 56}"
      ]
     },
     "execution_count": 142,
     "metadata": {},
     "output_type": "execute_result"
    }
   ],
   "source": [
    "info"
   ]
  },
  {
   "cell_type": "code",
   "execution_count": 135,
   "id": "4c7b221f",
   "metadata": {},
   "outputs": [
    {
     "data": {
      "text/plain": [
       "[('Cruyff', 104),\n",
       " ('Eusebio', 120),\n",
       " ('Messi', 125),\n",
       " ('Ronaldo', 132),\n",
       " ('Pele', 150)]"
      ]
     },
     "execution_count": 135,
     "metadata": {},
     "output_type": "execute_result"
    }
   ],
   "source": [
    "sorted_footballers_by_goals"
   ]
  },
  {
   "cell_type": "code",
   "execution_count": null,
   "id": "4c0f8034",
   "metadata": {},
   "outputs": [],
   "source": []
  },
  {
   "cell_type": "markdown",
   "id": "a1affb8e",
   "metadata": {},
   "source": [
    "### MAP Function \n",
    "\n",
    "<font Size=5> map(function,itrable) </font>\n",
    "\n",
    "function= it is a function to which map passes the each element of given\n",
    "iteble= it can be list, tupple , dictonery that can be mapped or itrate.\n",
    "\n",
    "\n",
    "Map itrate the given iterable and pass each element through the function ."
   ]
  },
  {
   "cell_type": "code",
   "execution_count": 82,
   "id": "8ea1295a",
   "metadata": {},
   "outputs": [],
   "source": [
    "l=[1,2,3,4,5,6,7,8,9]"
   ]
  },
  {
   "cell_type": "code",
   "execution_count": 83,
   "id": "5925e06c",
   "metadata": {},
   "outputs": [
    {
     "data": {
      "text/plain": [
       "[1, 4, 9, 16, 25, 36, 49, 64, 81]"
      ]
     },
     "execution_count": 83,
     "metadata": {},
     "output_type": "execute_result"
    }
   ],
   "source": [
    "### squeare the each item of the list\n",
    "\n",
    "list(map(lambda x : x**2,l))"
   ]
  },
  {
   "cell_type": "code",
   "execution_count": 147,
   "id": "09d9c3b8",
   "metadata": {},
   "outputs": [
    {
     "data": {
      "text/plain": [
       "[1, 4, 3, 16, 5, 36, 7, 64, 9]"
      ]
     },
     "execution_count": 147,
     "metadata": {},
     "output_type": "execute_result"
    }
   ],
   "source": [
    "### if number is even square them out \n",
    "\n",
    "list(map(lambda x:x**2 if x%2==0 else x,l))"
   ]
  },
  {
   "cell_type": "code",
   "execution_count": 144,
   "id": "6c39b4a1",
   "metadata": {},
   "outputs": [],
   "source": [
    "### filter out the even number from the list"
   ]
  },
  {
   "cell_type": "code",
   "execution_count": 149,
   "id": "5707cff0",
   "metadata": {},
   "outputs": [
    {
     "data": {
      "text/plain": [
       "[2, 4, 6, 8]"
      ]
     },
     "execution_count": 149,
     "metadata": {},
     "output_type": "execute_result"
    }
   ],
   "source": [
    "list(filter(lambda x : x%2==0,l)) ### Filter work as filter out then the value is True"
   ]
  }
 ],
 "metadata": {
  "kernelspec": {
   "display_name": "Python 3 (ipykernel)",
   "language": "python",
   "name": "python3"
  },
  "language_info": {
   "codemirror_mode": {
    "name": "ipython",
    "version": 3
   },
   "file_extension": ".py",
   "mimetype": "text/x-python",
   "name": "python",
   "nbconvert_exporter": "python",
   "pygments_lexer": "ipython3",
   "version": "3.10.9"
  }
 },
 "nbformat": 4,
 "nbformat_minor": 5
}
