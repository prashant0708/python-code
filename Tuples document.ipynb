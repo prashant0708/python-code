{
 "cells": [
  {
   "cell_type": "markdown",
   "id": "755fcfb1",
   "metadata": {},
   "source": [
    "#### TUPLE\n",
    "Tuple is also a in built type of Data type in the Pyhton which can hold the any kind of data \n",
    "such as String, INT,Float,Complex\n",
    "Tuples are immutable sequences in Python, which means their elements cannot be changed once they are created. Here are some common operations you can perform with tuples:\n",
    "\n",
    "Syntex of Tuple= a=()\n",
    "\n",
    "whatever will be inside the parenthesis will be tuple."
   ]
  },
  {
   "cell_type": "markdown",
   "id": "691fca33",
   "metadata": {},
   "source": [
    "### Creating of Tuple"
   ]
  },
  {
   "cell_type": "code",
   "execution_count": 1,
   "id": "d8e14189",
   "metadata": {},
   "outputs": [],
   "source": [
    "# Using parentheses\n",
    "my_tuple = (1, 2, 3)\n",
    "\n",
    "# Without parentheses (optional)\n",
    "another_tuple = 4, 5, 6\n"
   ]
  },
  {
   "cell_type": "code",
   "execution_count": 2,
   "id": "23920863",
   "metadata": {},
   "outputs": [
    {
     "data": {
      "text/plain": [
       "(1, 2, 3)"
      ]
     },
     "execution_count": 2,
     "metadata": {},
     "output_type": "execute_result"
    }
   ],
   "source": [
    "my_tuple"
   ]
  },
  {
   "cell_type": "code",
   "execution_count": 3,
   "id": "74fb754c",
   "metadata": {},
   "outputs": [
    {
     "data": {
      "text/plain": [
       "(4, 5, 6)"
      ]
     },
     "execution_count": 3,
     "metadata": {},
     "output_type": "execute_result"
    }
   ],
   "source": [
    "another_tuple"
   ]
  },
  {
   "cell_type": "markdown",
   "id": "2dfd19fa",
   "metadata": {},
   "source": [
    "### Accessing of the Element "
   ]
  },
  {
   "cell_type": "code",
   "execution_count": 5,
   "id": "fa045668",
   "metadata": {},
   "outputs": [
    {
     "name": "stdout",
     "output_type": "stream",
     "text": [
      "10\n",
      "20\n",
      "30\n"
     ]
    }
   ],
   "source": [
    "my_tuple = (10, 20, 30)\n",
    "print(my_tuple[0])  # Output: 10\n",
    "print(my_tuple[1])  # Output: 20\n",
    "print(my_tuple[2])  # Output: 30\n"
   ]
  },
  {
   "cell_type": "markdown",
   "id": "fb28aee4",
   "metadata": {},
   "source": [
    "### Slicing"
   ]
  },
  {
   "cell_type": "code",
   "execution_count": 6,
   "id": "9ce6f16b",
   "metadata": {},
   "outputs": [
    {
     "name": "stdout",
     "output_type": "stream",
     "text": [
      "(20, 30, 40)\n"
     ]
    }
   ],
   "source": [
    "my_tuple = (10, 20, 30, 40, 50)\n",
    "print(my_tuple[1:4])  # Output: (20, 30, 40)\n"
   ]
  },
  {
   "cell_type": "markdown",
   "id": "8f70434f",
   "metadata": {},
   "source": [
    "### Length of the Tuple"
   ]
  },
  {
   "cell_type": "code",
   "execution_count": 7,
   "id": "ab6aa4a5",
   "metadata": {},
   "outputs": [
    {
     "name": "stdout",
     "output_type": "stream",
     "text": [
      "5\n"
     ]
    }
   ],
   "source": [
    "my_tuple = (1, 2, 3, 4, 5)\n",
    "print(len(my_tuple))  # Output: 5\n"
   ]
  },
  {
   "cell_type": "markdown",
   "id": "59bf0609",
   "metadata": {},
   "source": [
    "## Concatenation"
   ]
  },
  {
   "cell_type": "code",
   "execution_count": 8,
   "id": "5b32712f",
   "metadata": {},
   "outputs": [
    {
     "name": "stdout",
     "output_type": "stream",
     "text": [
      "(1, 2, 3, 4, 5, 6)\n"
     ]
    }
   ],
   "source": [
    "tuple1 = (1, 2, 3)\n",
    "tuple2 = (4, 5, 6)\n",
    "concatenated_tuple = tuple1 + tuple2\n",
    "print(concatenated_tuple)  \n"
   ]
  },
  {
   "cell_type": "markdown",
   "id": "1915d6db",
   "metadata": {},
   "source": [
    "## Repetition"
   ]
  },
  {
   "cell_type": "code",
   "execution_count": 11,
   "id": "8637a64a",
   "metadata": {},
   "outputs": [
    {
     "name": "stdout",
     "output_type": "stream",
     "text": [
      "(1, 2, 3, 1, 2, 3, 1, 2, 3)\n"
     ]
    }
   ],
   "source": [
    "my_tuple = (1, 2, 3)\n",
    "repeated_tuple = my_tuple * 3\n",
    "print(repeated_tuple) \n"
   ]
  },
  {
   "cell_type": "code",
   "execution_count": 12,
   "id": "a1470efb",
   "metadata": {},
   "outputs": [],
   "source": [
    "##Repetition of the list\n",
    "my_list=[1,2,3]\n",
    "repeated_list=my_list*3"
   ]
  },
  {
   "cell_type": "code",
   "execution_count": 13,
   "id": "44439555",
   "metadata": {},
   "outputs": [
    {
     "data": {
      "text/plain": [
       "[1, 2, 3, 1, 2, 3, 1, 2, 3]"
      ]
     },
     "execution_count": 13,
     "metadata": {},
     "output_type": "execute_result"
    }
   ],
   "source": [
    "repeated_list"
   ]
  },
  {
   "cell_type": "markdown",
   "id": "434bfeea",
   "metadata": {},
   "source": [
    "## check the element if exists"
   ]
  },
  {
   "cell_type": "code",
   "execution_count": 14,
   "id": "0fb1432c",
   "metadata": {},
   "outputs": [
    {
     "name": "stdout",
     "output_type": "stream",
     "text": [
      "True\n",
      "False\n"
     ]
    }
   ],
   "source": [
    "my_tuple = (10, 20, 30)\n",
    "print(10 in my_tuple)  # Output: True\n",
    "print(40 in my_tuple)  # Output: False\n"
   ]
  },
  {
   "cell_type": "code",
   "execution_count": 15,
   "id": "8d1213c4",
   "metadata": {},
   "outputs": [
    {
     "data": {
      "text/plain": [
       "0"
      ]
     },
     "execution_count": 15,
     "metadata": {},
     "output_type": "execute_result"
    }
   ],
   "source": [
    "### check the exect position of the element in the list\n",
    "my_tuple.index(10)"
   ]
  },
  {
   "cell_type": "markdown",
   "id": "c97f1ca5",
   "metadata": {},
   "source": [
    "## Unpacking Tuples"
   ]
  },
  {
   "cell_type": "code",
   "execution_count": 16,
   "id": "9721cf51",
   "metadata": {},
   "outputs": [
    {
     "name": "stdout",
     "output_type": "stream",
     "text": [
      "10\n",
      "20\n",
      "30\n"
     ]
    }
   ],
   "source": [
    "my_tuple = (10, 20, 30)\n",
    "a, b, c = my_tuple\n",
    "print(a)  \n",
    "print(b)  \n",
    "print(c) "
   ]
  },
  {
   "cell_type": "markdown",
   "id": "a2ffc233",
   "metadata": {},
   "source": [
    "## Nested tuples"
   ]
  },
  {
   "cell_type": "code",
   "execution_count": 17,
   "id": "c3e14c49",
   "metadata": {},
   "outputs": [
    {
     "name": "stdout",
     "output_type": "stream",
     "text": [
      "3\n"
     ]
    }
   ],
   "source": [
    "nested_tuple = ((1, 2), (3, 4), (5, 6))\n",
    "print(nested_tuple[1][0])\n"
   ]
  },
  {
   "cell_type": "markdown",
   "id": "8afedbdb",
   "metadata": {},
   "source": [
    "## Conversion of the Tuples into List"
   ]
  },
  {
   "cell_type": "code",
   "execution_count": 19,
   "id": "ad4703d2",
   "metadata": {},
   "outputs": [
    {
     "name": "stdout",
     "output_type": "stream",
     "text": [
      "[1, 2, 3]\n",
      "(4, 5, 6)\n"
     ]
    }
   ],
   "source": [
    "my_tuple = (1, 2, 3)\n",
    "my_list = list(my_tuple)\n",
    "print(my_list)  # Output: [1, 2, 3]\n",
    "\n",
    "another_list = [4, 5, 6]\n",
    "another_tuple = tuple(another_list)\n",
    "print(another_tuple)  # Output: (4, 5, 6)"
   ]
  },
  {
   "cell_type": "markdown",
   "id": "22b07b1b",
   "metadata": {},
   "source": [
    "Remember that tuples are immutable, \n",
    "so you cannot modify their elements directly or \n",
    "use methods like append(), extend(), or remove(). \n",
    "If you need to change elements, consider using a list instead."
   ]
  },
  {
   "cell_type": "code",
   "execution_count": 20,
   "id": "e1b9c0d6",
   "metadata": {},
   "outputs": [],
   "source": [
    "import os"
   ]
  },
  {
   "cell_type": "code",
   "execution_count": 22,
   "id": "e5daa943",
   "metadata": {},
   "outputs": [
    {
     "ename": "AttributeError",
     "evalue": "module 'os' has no attribute 'cwd'",
     "output_type": "error",
     "traceback": [
      "\u001b[1;31m---------------------------------------------------------------------------\u001b[0m",
      "\u001b[1;31mAttributeError\u001b[0m                            Traceback (most recent call last)",
      "Cell \u001b[1;32mIn[22], line 1\u001b[0m\n\u001b[1;32m----> 1\u001b[0m \u001b[43mos\u001b[49m\u001b[38;5;241;43m.\u001b[39;49m\u001b[43mcwd\u001b[49m()\n",
      "\u001b[1;31mAttributeError\u001b[0m: module 'os' has no attribute 'cwd'"
     ]
    }
   ],
   "source": []
  },
  {
   "cell_type": "code",
   "execution_count": null,
   "id": "01136fdc",
   "metadata": {},
   "outputs": [],
   "source": []
  }
 ],
 "metadata": {
  "kernelspec": {
   "display_name": "Python 3 (ipykernel)",
   "language": "python",
   "name": "python3"
  },
  "language_info": {
   "codemirror_mode": {
    "name": "ipython",
    "version": 3
   },
   "file_extension": ".py",
   "mimetype": "text/x-python",
   "name": "python",
   "nbconvert_exporter": "python",
   "pygments_lexer": "ipython3",
   "version": "3.10.9"
  }
 },
 "nbformat": 4,
 "nbformat_minor": 5
}
