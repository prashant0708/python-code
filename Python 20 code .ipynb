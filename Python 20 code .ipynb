{
 "cells": [
  {
   "cell_type": "markdown",
   "id": "2afa7110",
   "metadata": {},
   "source": [
    "## 1. Write a Python program to find the factorial of a given number.\n"
   ]
  },
  {
   "cell_type": "code",
   "execution_count": 1,
   "id": "89bd4ba9",
   "metadata": {},
   "outputs": [
    {
     "name": "stdout",
     "output_type": "stream",
     "text": [
      "Enter the number = 6\n",
      "Factorial of 6 is 720\n",
      "Time taken to execute the code 2.898284673690796\n"
     ]
    }
   ],
   "source": [
    "import time\n",
    "\n",
    "starttime=time.time()\n",
    "number=int(input(\"Enter the number = \"))\n",
    "a=1\n",
    "\n",
    "for i in range (1,number+1):\n",
    "    a*=i\n",
    "    \n",
    "endtime=time.time()\n",
    "print(f\"Factorial of {number} is {a}\")\n",
    "\n",
    "total_time=endtime-starttime\n",
    "\n",
    "print(f\"Time taken to execute the code {total_time}\")"
   ]
  },
  {
   "cell_type": "markdown",
   "id": "b432e336",
   "metadata": {},
   "source": [
    "## 2.Implement a function to check if a string is a palindrome or not."
   ]
  },
  {
   "cell_type": "markdown",
   "id": "298858d8",
   "metadata": {},
   "source": [
    "### Palindrome string is nothing but it remain same while reading from both side same \n",
    "1. ABA          4.dad       7.Kayak     10. Malyalam\n",
    "2. CIVIC         5.MOM       8.minim\n",
    "3. deified      6.repaper    9.radar"
   ]
  },
  {
   "cell_type": "code",
   "execution_count": 25,
   "id": "84a16dd4",
   "metadata": {},
   "outputs": [
    {
     "name": "stdout",
     "output_type": "stream",
     "text": [
      "Enter the word to check palindrome CIVIC\n",
      "Enter word is palindrome\n"
     ]
    }
   ],
   "source": [
    "string=input(\"Enter the word to check palindrome \").lower()\n",
    "words=\"\"#creating empty string\n",
    "reverse_words=\"\"\n",
    "for word in string:\n",
    "    #iterating the input and joining back and saving into words variable\n",
    "    words+=word \n",
    "for reverse_word in string[::-1]:#Iterating after reversing the string\n",
    "    reverse_words+=reverse_word\n",
    "if words==reverse_words:\n",
    "    print(f\"Enter word is palindrome\")\n",
    "else:\n",
    "    print(\"Enter word is not palidrome\")"
   ]
  },
  {
   "cell_type": "markdown",
   "id": "04eb2361",
   "metadata": {},
   "source": [
    "## 3.Write a program to find the nth Fibonacci number using recursion\n",
    "\n",
    "if n=6\n",
    "\n",
    "1 1 2 3 5 8"
   ]
  },
  {
   "cell_type": "code",
   "execution_count": 39,
   "id": "ea3504ed",
   "metadata": {},
   "outputs": [
    {
     "name": "stdout",
     "output_type": "stream",
     "text": [
      "Enter the number 6\n",
      "1 1 2 3 5 8 "
     ]
    }
   ],
   "source": [
    "number = int(input(\"Enter the number \"))\n",
    "start_number=1\n",
    "end_number=0\n",
    "next_number=1\n",
    "\n",
    "for i in range(1,number+1):\n",
    "    print(start_number,end=\" \")\n",
    "    end_number=start_number\n",
    "    start_number=next_number\n",
    "    next_number=start_number+end_number"
   ]
  },
  {
   "cell_type": "code",
   "execution_count": 40,
   "id": "544d52fa",
   "metadata": {},
   "outputs": [
    {
     "name": "stdout",
     "output_type": "stream",
     "text": [
      "Enter the number 6\n",
      "1 1 2 3 5 8 "
     ]
    }
   ],
   "source": [
    "number = int(input(\"Enter the number \"))\n",
    "start_number=1\n",
    "end_number=0\n",
    "next_number=1\n",
    "for i in range(1,number+1):\n",
    "    print(next_number,end=\" \")\n",
    "    start_number=end_number\n",
    "    end_number=next_number\n",
    "    next_number=start_number+end_number"
   ]
  },
  {
   "cell_type": "markdown",
   "id": "6674e4d7",
   "metadata": {},
   "source": [
    "### 4.Create a Python class for a basic calculator with add, subtract, multiply, and divide methods."
   ]
  },
  {
   "cell_type": "code",
   "execution_count": 50,
   "id": "8151ae3f",
   "metadata": {},
   "outputs": [],
   "source": [
    "class calculator:\n",
    "    def __init__(self,a,b):\n",
    "        self.a=a\n",
    "        self.b=b\n",
    "    def addition(self,c):\n",
    "        result=self.a+self.b+c\n",
    "        return result\n",
    "    def multiplication (self):\n",
    "        result=self.a*self.b\n",
    "        return result\n",
    "    def division(self):\n",
    "        if self.b>0:\n",
    "            result=self.a/self.b\n",
    "            return result\n",
    "        else:\n",
    "            return (\"Divisior is less than zero\")"
   ]
  },
  {
   "cell_type": "code",
   "execution_count": 57,
   "id": "f3b8a4b3",
   "metadata": {},
   "outputs": [],
   "source": [
    "num=calculator(5,4)"
   ]
  },
  {
   "cell_type": "code",
   "execution_count": 58,
   "id": "f59c0e73",
   "metadata": {},
   "outputs": [
    {
     "data": {
      "text/plain": [
       "14"
      ]
     },
     "execution_count": 58,
     "metadata": {},
     "output_type": "execute_result"
    }
   ],
   "source": [
    "num.addition(5)"
   ]
  },
  {
   "cell_type": "code",
   "execution_count": 59,
   "id": "78c91380",
   "metadata": {},
   "outputs": [
    {
     "data": {
      "text/plain": [
       "1.25"
      ]
     },
     "execution_count": 59,
     "metadata": {},
     "output_type": "execute_result"
    }
   ],
   "source": [
    "num.division()"
   ]
  },
  {
   "cell_type": "code",
   "execution_count": 61,
   "id": "8fc9aef8",
   "metadata": {},
   "outputs": [
    {
     "data": {
      "text/plain": [
       "20"
      ]
     },
     "execution_count": 61,
     "metadata": {},
     "output_type": "execute_result"
    }
   ],
   "source": [
    "num.multiplication()"
   ]
  },
  {
   "cell_type": "markdown",
   "id": "4316f731",
   "metadata": {},
   "source": [
    "### 5.Given a list of numbers, write a function to find the largest and smallest numbers in the list."
   ]
  },
  {
   "cell_type": "code",
   "execution_count": 63,
   "id": "8f5297fe",
   "metadata": {},
   "outputs": [],
   "source": [
    "import numpy as np\n",
    "l=[3,4,5,6,7,8,9,3]\n",
    "class minimum_maximum:\n",
    "    def __init__(self,l):\n",
    "        self.l=l\n",
    "    def maximum(self):\n",
    "        maximum_number=max(self.l)\n",
    "        return maximum_number\n",
    "    def minimum(self):\n",
    "        minimum_number=min(self.l)\n",
    "        return minimum_number\n",
    "    "
   ]
  },
  {
   "cell_type": "code",
   "execution_count": 64,
   "id": "897a36b7",
   "metadata": {},
   "outputs": [],
   "source": [
    "number=minimum_maximum(l)"
   ]
  },
  {
   "cell_type": "code",
   "execution_count": 65,
   "id": "c5d4c9c3",
   "metadata": {},
   "outputs": [
    {
     "data": {
      "text/plain": [
       "[3, 4, 5, 6, 7, 8, 9, 3]"
      ]
     },
     "execution_count": 65,
     "metadata": {},
     "output_type": "execute_result"
    }
   ],
   "source": [
    "number.l"
   ]
  },
  {
   "cell_type": "code",
   "execution_count": 66,
   "id": "070eda28",
   "metadata": {},
   "outputs": [
    {
     "data": {
      "text/plain": [
       "9"
      ]
     },
     "execution_count": 66,
     "metadata": {},
     "output_type": "execute_result"
    }
   ],
   "source": [
    "number.maximum()"
   ]
  },
  {
   "cell_type": "code",
   "execution_count": 67,
   "id": "1c9ea0fe",
   "metadata": {},
   "outputs": [
    {
     "data": {
      "text/plain": [
       "3"
      ]
     },
     "execution_count": 67,
     "metadata": {},
     "output_type": "execute_result"
    }
   ],
   "source": [
    "number.minimum()"
   ]
  },
  {
   "cell_type": "markdown",
   "id": "84becb42",
   "metadata": {},
   "source": [
    "### 6.Write a program to count the occurrences of each word in a given text file."
   ]
  },
  {
   "cell_type": "code",
   "execution_count": 122,
   "id": "963e520a",
   "metadata": {},
   "outputs": [
    {
     "name": "stdout",
     "output_type": "stream",
     "text": [
      "{'': 121, 'a': 49, 'b': 8, 'c': 19, 'd': 24, 'e': 50, 'f': 13, 'g': 9, 'h': 25, 'i': 44, 'k': 4, 'l': 18, 'm': 11, 'n': 35, 'o': 35, 'p': 7, 'q': 2, 'r': 27, 's': 29, 't': 48, 'u': 13, 'v': 5, 'w': 5, 'y': 6}\n"
     ]
    }
   ],
   "source": [
    "d={}\n",
    "sorted_d={}\n",
    "with open('file.txt','r') as file:\n",
    "    content=file.read()\n",
    "    for line in content:\n",
    "        line=line.strip(\"\\n ' '': ; - ( ) [ ] 1,2,3,4,5,6,7,8,9,0 ''  .\").lower()\n",
    "        if line in d:\n",
    "            d[line]=d[line]+1\n",
    "        else:\n",
    "            d[line]=1\n",
    "    for i in sorted(d):\n",
    "        sorted_d[i]=d[i]\n",
    "        \n",
    "print(sorted_d)"
   ]
  },
  {
   "cell_type": "markdown",
   "id": "8437f05e",
   "metadata": {},
   "source": [
    "## 7.Implement a function to reverse a linked list."
   ]
  },
  {
   "cell_type": "code",
   "execution_count": 162,
   "id": "41336adb",
   "metadata": {},
   "outputs": [
    {
     "data": {
      "text/plain": [
       "['Prashant', 9, 8, 7, 6, 5, 4, 3, 2]"
      ]
     },
     "execution_count": 162,
     "metadata": {},
     "output_type": "execute_result"
    }
   ],
   "source": [
    "def reverse_list(a):\n",
    "    empty_list=[]\n",
    "    for line in a[::-1]:\n",
    "        empty_list.append(line)\n",
    "    return(empty_list)\n",
    "l=[2,3,4,5,6,7,8,9,\"Prashant\"]\n",
    "reverse_list(l)"
   ]
  },
  {
   "cell_type": "markdown",
   "id": "8299deac",
   "metadata": {},
   "source": [
    "<font color=\"red\" size=5>8.Write a Python script to download all images from a URL.</font>\n"
   ]
  },
  {
   "cell_type": "markdown",
   "id": "1e7d6581",
   "metadata": {},
   "source": [
    "### 9.Create a function to check if two strings are anagrams of each other.\n",
    "\n",
    "###### A words or phrase formed by changing the order of the letter  in the another words\n",
    "\n",
    "1. race- care\n",
    "2. part- trap\n",
    "3. heart-earth\n",
    "4. knee- keen"
   ]
  },
  {
   "cell_type": "code",
   "execution_count": 3,
   "id": "9e619434",
   "metadata": {},
   "outputs": [
    {
     "name": "stdout",
     "output_type": "stream",
     "text": [
      "Enter the first words prashant\n",
      "Enter the  second words singh\n",
      "prashant and singh are not anagrams string\n"
     ]
    }
   ],
   "source": [
    "word_1=input(\"Enter the first words \").lower()\n",
    "word_2=input(\"Enter the  second words \").lower()\n",
    "if sorted(word_1)==sorted(word_2):\n",
    "    print(f\"{word_1} and {word_2} are anagrams string\")\n",
    "else:\n",
    "    print(f\"{word_1} and {word_2} are not anagrams string\")"
   ]
  },
  {
   "cell_type": "markdown",
   "id": "02fb8835",
   "metadata": {},
   "source": [
    "## 10.Write a program to sort a list of integers using the Bubble Sort algorithm."
   ]
  },
  {
   "cell_type": "code",
   "execution_count": 9,
   "id": "56a89624",
   "metadata": {},
   "outputs": [
    {
     "name": "stdout",
     "output_type": "stream",
     "text": [
      "Enter the number of element 9\n",
      "enter the list number 56\n",
      "enter the list number 78\n",
      "enter the list number 98\n",
      "enter the list number 2\n",
      "enter the list number 4\n",
      "enter the list number 5\n",
      "enter the list number 6\n",
      "enter the list number 7\n",
      "enter the list number 8\n",
      "[2, 4, 5, 6, 7, 8, 56, 78, 98]\n"
     ]
    }
   ],
   "source": [
    "### create list with user input\n",
    "n=int(input(\"Enter the number of element \"))\n",
    "lists=[]\n",
    "for i in range (0,n):\n",
    "    l1=int(input(\"enter the list number \"))\n",
    "    lists.append(l1)\n",
    "\n",
    "## sort the list number using bubble sort algorithm\n",
    "for j in range (0,len(lists)-1):\n",
    "    for k in range (0,len(lists)-1):\n",
    "        if lists[k]>lists[k+1]:\n",
    "            lists[k],lists[k+1]=lists[k+1],lists[k]\n",
    "        else:\n",
    "            lists[k],lists[k+1]=lists[k],lists[k+1]\n",
    "print(lists)"
   ]
  },
  {
   "cell_type": "markdown",
   "id": "b05074b8",
   "metadata": {},
   "source": [
    "## 11.Implement a binary search algorithm to find an element in a sorted list.\n",
    "\n",
    "1. there are one list [3,4,5,6,7,8,9]\n",
    "2. k=6\n",
    "3. check k is in list if yes at what possition (what is the index value of the k=6)"
   ]
  },
  {
   "cell_type": "code",
   "execution_count": 1,
   "id": "f604ea5d",
   "metadata": {},
   "outputs": [
    {
     "name": "stdout",
     "output_type": "stream",
     "text": [
      "Enter the number of element 5\n",
      "enter the list number 6\n",
      "enter the list number 7\n",
      "enter the list number 8\n",
      "enter the list number 4\n",
      "enter the list number 5\n",
      "Enter the number that you want to see in the list8\n",
      "8 is at 5 position in [4, 5, 6, 7, 8]\n"
     ]
    }
   ],
   "source": [
    "### create list with user input\n",
    "n=int(input(\"Enter the number of element \"))\n",
    "a=[]\n",
    "for i in range (0,n):\n",
    "    l1=int(input(\"enter the list number \"))\n",
    "    a.append(l1)\n",
    "k=int(input(\"Enter the number that you want to see in the list\"))\n",
    "##sort the list in assending order\n",
    "a=sorted(a)\n",
    "\n",
    "start=0\n",
    "end=len(a)-1\n",
    "mid=start+end//2\n",
    "if a[mid]==k:\n",
    "    print(f\"{k} is at {mid} position in {a}\")\n",
    "elif a[mid]>k:\n",
    "    end=mid-1\n",
    "    mid=end+start//2\n",
    "    print(f\"{k} is at {mid} position in {a}\")\n",
    "elif a[mid]<k:\n",
    "    start=mid+1\n",
    "    mid=start+end//2\n",
    "    print(f\"{k} is at {mid} position in {a}\")"
   ]
  },
  {
   "cell_type": "markdown",
   "id": "569e6df6",
   "metadata": {},
   "source": [
    "## 12.Create a function to generate all possible permutations of a given string."
   ]
  },
  {
   "cell_type": "code",
   "execution_count": 1,
   "id": "4cf0a36a",
   "metadata": {},
   "outputs": [],
   "source": [
    "import itertools"
   ]
  },
  {
   "cell_type": "code",
   "execution_count": 12,
   "id": "d7dc847a",
   "metadata": {},
   "outputs": [
    {
     "name": "stdout",
     "output_type": "stream",
     "text": [
      "ABC\n",
      "ACB\n",
      "BAC\n",
      "BCA\n",
      "CAB\n",
      "CBA\n"
     ]
    }
   ],
   "source": [
    "s='ABC'\n",
    "num=list(s)\n",
    "permutation=list(itertools.permutations(num))\n",
    "for i in permutation:\n",
    "    print(''.join(i))"
   ]
  },
  {
   "cell_type": "code",
   "execution_count": 81,
   "id": "161496c1",
   "metadata": {},
   "outputs": [],
   "source": [
    "result=[]\n",
    "def permutations(a,i,n):\n",
    "    if i==n:\n",
    "        result.append(\"\".join(a))\n",
    "    for j in range (i,n+1):\n",
    "        a[i],a[j]=a[j],a[i]\n",
    "        permutations(a,i+1,n)\n",
    "        a[i],a[j]=a[j],a[i]\n",
    "    return result"
   ]
  },
  {
   "cell_type": "code",
   "execution_count": 82,
   "id": "ab9d17b5",
   "metadata": {},
   "outputs": [
    {
     "data": {
      "text/plain": [
       "['ABC', 'ACB', 'BAC', 'BCA', 'CBA', 'CAB']"
      ]
     },
     "execution_count": 82,
     "metadata": {},
     "output_type": "execute_result"
    }
   ],
   "source": [
    "a=\"ABC\"\n",
    "permutations(list(a),0,2)"
   ]
  },
  {
   "cell_type": "code",
   "execution_count": 75,
   "id": "e297f834",
   "metadata": {},
   "outputs": [
    {
     "data": {
      "text/plain": [
       "['A', 'B', 'C']"
      ]
     },
     "execution_count": 75,
     "metadata": {},
     "output_type": "execute_result"
    }
   ],
   "source": [
    "list(a)"
   ]
  },
  {
   "cell_type": "markdown",
   "id": "5b7c97fd",
   "metadata": {},
   "source": [
    "## 13.Write a Python program to convert a decimal number to binary."
   ]
  },
  {
   "cell_type": "code",
   "execution_count": 1,
   "id": "fdcb9d0d",
   "metadata": {},
   "outputs": [
    {
     "name": "stdout",
     "output_type": "stream",
     "text": [
      "Enter the number= 10\n",
      "[1, 0, 1, 0]\n"
     ]
    }
   ],
   "source": [
    "#### convert the 10,13 ,14,15 into binary\n",
    "n=int(input(\"Enter the number= \"))\n",
    "l=[]\n",
    "while n>0:\n",
    "    result=n//2\n",
    "    reminder=n%2\n",
    "    n=result\n",
    "    l.append(reminder)\n",
    "l=l[::-1]## reverse the list\n",
    "print(l)"
   ]
  },
  {
   "cell_type": "markdown",
   "id": "04470503",
   "metadata": {},
   "source": [
    "## 14.Implement a function to calculate the area of a circle given its radius."
   ]
  },
  {
   "cell_type": "code",
   "execution_count": 2,
   "id": "06213cfd",
   "metadata": {},
   "outputs": [],
   "source": [
    "def area_circle(r):\n",
    "    area=3.14*r**2  # area of circle is pi x radious xradious\n",
    "    return area"
   ]
  },
  {
   "cell_type": "code",
   "execution_count": 3,
   "id": "85ac5556",
   "metadata": {},
   "outputs": [
    {
     "data": {
      "text/plain": [
       "78.5"
      ]
     },
     "execution_count": 3,
     "metadata": {},
     "output_type": "execute_result"
    }
   ],
   "source": [
    "area_circle(5)"
   ]
  },
  {
   "cell_type": "markdown",
   "id": "d3dcdff9",
   "metadata": {},
   "source": [
    "## 15.Create a program that simulates a simple ATM with deposit, withdraw, and balance check operations."
   ]
  },
  {
   "cell_type": "code",
   "execution_count": 25,
   "id": "483fc1c9",
   "metadata": {},
   "outputs": [
    {
     "name": "stdout",
     "output_type": "stream",
     "text": [
      "Enter the 4 digits ATM Pin 7856\n",
      "Press 1 for Balance_check 2 for withdraw 3 for deposit1\n",
      "your Account Balance is 50000\n"
     ]
    }
   ],
   "source": [
    "####ATM Simulation \n",
    "Bank_Balance = 50000\n",
    "card_pin=7856\n",
    "user_input=int(input(\"Enter the 4 digits ATM Pin \"))\n",
    "\n",
    "##Match the user entered card pin \n",
    "if user_input==card_pin:\n",
    "    global Bank_Balance\n",
    "    ## ask user kind of transction\n",
    "    simulation_input=int(input(\"Press 1 for Balance_check 2 for withdraw 3 for deposit\"))\n",
    "    ##Banalce Check\n",
    "    if simulation_input==1:\n",
    "        print(f\"your Account Balance is {Bank_Balance}\")\n",
    "    ## Money withdraw \n",
    "    elif simulation_input==2:\n",
    "        amount=int(input(\"Enter the amount you want to withdraw \"))\n",
    "        if amount>50000:\n",
    "            print(\"Insufficient Balance\")\n",
    "        else:\n",
    "            print(\"Please collect the money\")\n",
    "           \n",
    "            Bank_Balance=Bank_Balance-amount\n",
    "            print(f\"Remaining Account Balance is {Bank_Balance}\")\n",
    "    ## Money deposit\n",
    "    elif simulation_input==3:\n",
    "        print(\"Enter the amount you want to deposit\")\n",
    "        receive_amount=int(input(\"Enter the Amount\"))\n",
    "        Bank_Balance=Bank_Balance+receive_amount\n",
    "        print(f\"Your Account balance is {Bank_Balance}\")\n",
    "        \n",
    "    else:\n",
    "        print(\"Invalid input\") \n",
    "else:\n",
    "    print(\"Wrong PIN entered Please entered correct Pin \")"
   ]
  },
  {
   "cell_type": "markdown",
   "id": "4a2cdf0e",
   "metadata": {},
   "source": [
    "<font color='red' size=5> 16.Write a Python script to scrape data from a website and store it in a CSV file.</font>"
   ]
  },
  {
   "cell_type": "markdown",
   "id": "b35f2224",
   "metadata": {},
   "source": [
    "## 17.Implement a recursive function to calculate the sum of digits in a given integer."
   ]
  },
  {
   "cell_type": "code",
   "execution_count": null,
   "id": "3688f37a",
   "metadata": {},
   "outputs": [],
   "source": [
    "def sum_of_digit( n ):\n",
    "    if n == 0:\n",
    "        return 0\n",
    "    return (n % 10 + sum_of_digit(int(n / 10)))\n",
    " \n",
    "# Driven code to check above\n",
    "num = 12345\n",
    "result = sum_of_digit(num)\n",
    "print(\"Sum of digits in\",num,\"is\", result)\n",
    "\n"
   ]
  },
  {
   "cell_type": "markdown",
   "id": "8cec4511",
   "metadata": {},
   "source": [
    "## 18.Write a program to find all prime numbers within a specified range."
   ]
  },
  {
   "cell_type": "code",
   "execution_count": 91,
   "id": "faf7c656",
   "metadata": {},
   "outputs": [
    {
     "name": "stdout",
     "output_type": "stream",
     "text": [
      "Enter the lower limit= 1\n",
      "Enter the upper limit= 100\n",
      "[2, 3, 5, 7, 11, 13, 17, 19, 23, 29, 31, 37, 41, 43, 47, 53, 59, 61, 67, 71, 73, 79, 83, 89, 97]\n"
     ]
    }
   ],
   "source": [
    "lower_limit=int(input(\"Enter the lower limit= \"))\n",
    "upper_limit=int(input(\"Enter the upper limit= \"))\n",
    "prime_number=[]\n",
    "\n",
    "for number in range (lower_limit,upper_limit+1):\n",
    "    if number>1:\n",
    "        for j in range(2,int(number*0.5)+1):\n",
    "            if number %j==0:\n",
    "                break\n",
    "        else:\n",
    "            prime_number.append(number)\n",
    "print(prime_number)"
   ]
  },
  {
   "cell_type": "markdown",
   "id": "cbe0e160",
   "metadata": {},
   "source": [
    "## 19.Create a function to check if a number is a perfect square.\n"
   ]
  },
  {
   "cell_type": "code",
   "execution_count": 109,
   "id": "2fbdd698",
   "metadata": {},
   "outputs": [
    {
     "name": "stdout",
     "output_type": "stream",
     "text": [
      "Enter the number=100\n"
     ]
    },
    {
     "data": {
      "text/plain": [
       "'100 is perfect square'"
      ]
     },
     "execution_count": 109,
     "metadata": {},
     "output_type": "execute_result"
    }
   ],
   "source": [
    "def check_square(a):\n",
    "    sqrt_num=a**0.5\n",
    "    if sqrt_num.is_integer():\n",
    "        return (f\"{a} is perfect square\")\n",
    "    else :\n",
    "        return (f\"{a} is not perfect square\")\n",
    "check_square(int(input(\"Enter the number=\")))"
   ]
  },
  {
   "cell_type": "code",
   "execution_count": null,
   "id": "6fddb6ca",
   "metadata": {},
   "outputs": [],
   "source": [
    "20.Write a Python class for a stack data structure and demonstrate its usage."
   ]
  }
 ],
 "metadata": {
  "kernelspec": {
   "display_name": "Python 3 (ipykernel)",
   "language": "python",
   "name": "python3"
  },
  "language_info": {
   "codemirror_mode": {
    "name": "ipython",
    "version": 3
   },
   "file_extension": ".py",
   "mimetype": "text/x-python",
   "name": "python",
   "nbconvert_exporter": "python",
   "pygments_lexer": "ipython3",
   "version": "3.10.9"
  }
 },
 "nbformat": 4,
 "nbformat_minor": 5
}
